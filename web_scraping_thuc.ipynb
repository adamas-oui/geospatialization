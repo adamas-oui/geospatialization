{
  "nbformat": 4,
  "nbformat_minor": 0,
  "metadata": {
    "colab": {
      "name": "web-scraping-thuc.ipynb",
      "provenance": [],
      "authorship_tag": "ABX9TyPWtxy+kuYCQrcm4FrHH4G4",
      "include_colab_link": true
    },
    "kernelspec": {
      "name": "python3",
      "display_name": "Python 3"
    }
  },
  "cells": [
    {
      "cell_type": "markdown",
      "metadata": {
        "id": "view-in-github",
        "colab_type": "text"
      },
      "source": [
        "<a href=\"https://colab.research.google.com/github/adamas-oui/geospatialization/blob/main/web_scraping_thuc.ipynb\" target=\"_parent\"><img src=\"https://colab.research.google.com/assets/colab-badge.svg\" alt=\"Open In Colab\"/></a>"
      ]
    },
    {
      "cell_type": "code",
      "metadata": {
        "id": "o2qv_tY_OIIb"
      },
      "source": [
        "import requests"
      ],
      "execution_count": null,
      "outputs": []
    },
    {
      "cell_type": "code",
      "metadata": {
        "id": "Q1uzX9XiOMjh"
      },
      "source": [
        "import re"
      ],
      "execution_count": null,
      "outputs": []
    },
    {
      "cell_type": "code",
      "metadata": {
        "id": "WWUp27KvOOtl"
      },
      "source": [
        "import time"
      ],
      "execution_count": null,
      "outputs": []
    },
    {
      "cell_type": "code",
      "metadata": {
        "id": "4nOvpUheOQuC"
      },
      "source": [
        "import os\n",
        "import urllib.request"
      ],
      "execution_count": null,
      "outputs": []
    },
    {
      "cell_type": "code",
      "metadata": {
        "id": "yoLmAvh4OU9v"
      },
      "source": [
        "import bs4\n",
        "from bs4 import BeautifulSoup"
      ],
      "execution_count": 8,
      "outputs": []
    },
    {
      "cell_type": "code",
      "metadata": {
        "id": "fsFR-WAmO3BB"
      },
      "source": [
        "base_url = {\n",
        "    'thuc': 'http://www.perseus.tufts.edu/hopper/text?doc='\n",
        "}"
      ],
      "execution_count": 12,
      "outputs": []
    },
    {
      "cell_type": "code",
      "metadata": {
        "id": "_ZeHtyxAPLMK"
      },
      "source": [
        "def GetLinksForText(base_url, start_index):\n",
        "  URL = base_url + str(start_index)\n",
        "  page = request"
      ],
      "execution_count": null,
      "outputs": []
    }
  ]
}